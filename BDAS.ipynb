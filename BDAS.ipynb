{
 "cells": [
  {
   "cell_type": "code",
   "execution_count": 1,
   "metadata": {},
   "outputs": [],
   "source": [
    "import findspark\n",
    "findspark.init('/home/ubuntu/spark-2.1.1-bin-hadoop2.7')\n",
    "import pyspark\n",
    "from pyspark.sql import SparkSession\n",
    "spark = SparkSession.builder.appName('Life Expectancy Data.csv').getOrCreate()"
   ]
  },
  {
   "cell_type": "code",
   "execution_count": 2,
   "metadata": {},
   "outputs": [
    {
     "name": "stdout",
     "output_type": "stream",
     "text": [
      "root\n",
      " |-- Country: string (nullable = true)\n",
      " |-- Year: integer (nullable = true)\n",
      " |-- Status: string (nullable = true)\n",
      " |-- Life expectancy : double (nullable = true)\n",
      " |-- Adult Mortality: integer (nullable = true)\n",
      " |-- infant deaths: integer (nullable = true)\n",
      " |-- Alcohol: double (nullable = true)\n",
      " |-- percentage expenditure: double (nullable = true)\n",
      " |-- Hepatitis B: integer (nullable = true)\n",
      " |-- Measles : integer (nullable = true)\n",
      " |--  BMI : double (nullable = true)\n",
      " |-- under-five deaths : integer (nullable = true)\n",
      " |-- Polio: integer (nullable = true)\n",
      " |-- Total expenditure: double (nullable = true)\n",
      " |-- Diphtheria : integer (nullable = true)\n",
      " |--  HIV/AIDS: double (nullable = true)\n",
      " |-- GDP: double (nullable = true)\n",
      " |-- Population: double (nullable = true)\n",
      " |--  thinness  1-19 years: double (nullable = true)\n",
      " |--  thinness 5-9 years: double (nullable = true)\n",
      " |-- Income composition of resources: double (nullable = true)\n",
      " |-- Schooling: double (nullable = true)\n",
      "\n"
     ]
    }
   ],
   "source": [
    "df = spark.read.csv('Life Expectancy Data.csv', inferSchema=True, header=True)\n",
    "df.printSchema()"
   ]
  },
  {
   "cell_type": "code",
   "execution_count": 4,
   "metadata": {},
   "outputs": [
    {
     "name": "stdout",
     "output_type": "stream",
     "text": [
      "+-----------+----+----------+----------------+---------------+-------------+-------+----------------------+-----------+--------+-----+------------------+-----+-----------------+-----------+---------+-----------+-----------+---------------------+-------------------+-------------------------------+---------+\n",
      "|    Country|Year|    Status|Life expectancy |Adult Mortality|infant deaths|Alcohol|percentage expenditure|Hepatitis B|Measles | BMI |under-five deaths |Polio|Total expenditure|Diphtheria | HIV/AIDS|        GDP| Population| thinness  1-19 years| thinness 5-9 years|Income composition of resources|Schooling|\n",
      "+-----------+----+----------+----------------+---------------+-------------+-------+----------------------+-----------+--------+-----+------------------+-----+-----------------+-----------+---------+-----------+-----------+---------------------+-------------------+-------------------------------+---------+\n",
      "|Afghanistan|2015|Developing|            65.0|            263|           62|   0.01|           71.27962362|         65|    1154| 19.1|                83|    6|             8.16|         65|      0.1|  584.25921|3.3736494E7|                 17.2|               17.3|                          0.479|     10.1|\n",
      "|Afghanistan|2014|Developing|            59.9|            271|           64|   0.01|           73.52358168|         62|     492| 18.6|                86|   58|             8.18|         62|      0.1| 612.696514|   327582.0|                 17.5|               17.5|                          0.476|     10.0|\n",
      "|Afghanistan|2013|Developing|            59.9|            268|           66|   0.01|           73.21924272|         64|     430| 18.1|                89|   62|             8.13|         64|      0.1| 631.744976|3.1731688E7|                 17.7|               17.7|                           0.47|      9.9|\n",
      "|Afghanistan|2012|Developing|            59.5|            272|           69|   0.01|            78.1842153|         67|    2787| 17.6|                93|   67|             8.52|         67|      0.1|    669.959|  3696958.0|                 17.9|               18.0|                          0.463|      9.8|\n",
      "|Afghanistan|2011|Developing|            59.2|            275|           71|   0.01|           7.097108703|         68|    3013| 17.2|                97|   68|             7.87|         68|      0.1|  63.537231|  2978599.0|                 18.2|               18.2|                          0.454|      9.5|\n",
      "|Afghanistan|2010|Developing|            58.8|            279|           74|   0.01|           79.67936736|         66|    1989| 16.7|               102|   66|              9.2|         66|      0.1|  553.32894|  2883167.0|                 18.4|               18.4|                          0.448|      9.2|\n",
      "|Afghanistan|2009|Developing|            58.6|            281|           77|   0.01|           56.76221682|         63|    2861| 16.2|               106|   63|             9.42|         63|      0.1|445.8932979|   284331.0|                 18.6|               18.7|                          0.434|      8.9|\n",
      "|Afghanistan|2008|Developing|            58.1|            287|           80|   0.03|           25.87392536|         64|    1599| 15.7|               110|   64|             8.33|         64|      0.1|373.3611163|  2729431.0|                 18.8|               18.9|                          0.433|      8.7|\n",
      "|Afghanistan|2007|Developing|            57.5|            295|           82|   0.02|           10.91015598|         63|    1141| 15.2|               113|   63|             6.73|         63|      0.1| 369.835796|2.6616792E7|                 19.0|               19.1|                          0.415|      8.4|\n",
      "|Afghanistan|2006|Developing|            57.3|            295|           84|   0.03|           17.17151751|         64|    1990| 14.7|               116|   58|             7.43|         58|      0.1|  272.56377|  2589345.0|                 19.2|               19.3|                          0.405|      8.1|\n",
      "|Afghanistan|2005|Developing|            57.3|            291|           85|   0.02|           1.388647732|         66|    1296| 14.2|               118|   58|              8.7|         58|      0.1| 25.2941299|   257798.0|                 19.3|               19.5|                          0.396|      7.9|\n",
      "|Afghanistan|2004|Developing|            57.0|            293|           87|   0.02|           15.29606643|         67|     466| 13.8|               120|    5|             8.79|          5|      0.1|219.1413528|2.4118979E7|                 19.5|               19.7|                          0.381|      6.8|\n",
      "|Afghanistan|2003|Developing|            56.7|            295|           87|   0.01|           11.08905273|         65|     798| 13.4|               122|   41|             8.82|         41|      0.1|198.7285436|  2364851.0|                 19.7|               19.9|                          0.373|      6.5|\n",
      "|Afghanistan|2002|Developing|            56.2|              3|           88|   0.01|           16.88735091|         64|    2486| 13.0|               122|   36|             7.76|         36|      0.1|  187.84595|2.1979923E7|                 19.9|                2.2|                          0.341|      6.2|\n",
      "|Afghanistan|2001|Developing|            55.3|            316|           88|   0.01|            10.5747282|         63|    8762| 12.6|               122|   35|              7.8|         33|      0.1|  117.49698|  2966463.0|                  2.1|                2.4|                           0.34|      5.9|\n",
      "|Afghanistan|2000|Developing|            54.8|            321|           88|   0.01|              10.42496|         62|    6532| 12.2|               122|   24|              8.2|         24|      0.1|     114.56|   293756.0|                  2.3|                2.5|                          0.338|      5.5|\n",
      "|    Albania|2015|Developing|            77.8|             74|            0|    4.6|           364.9752287|         99|       0| 58.0|                 0|   99|              6.0|         99|      0.1| 3954.22783|    28873.0|                  1.2|                1.3|                          0.762|     14.2|\n",
      "|    Albania|2014|Developing|            77.5|              8|            0|   4.51|           428.7490668|         98|       0| 57.2|                 1|   98|             5.88|         98|      0.1|4575.763787|   288914.0|                  1.2|                1.3|                          0.761|     14.2|\n",
      "|    Albania|2013|Developing|            77.2|             84|            0|   4.76|           430.8769785|         99|       0| 56.5|                 1|   99|             5.66|         99|      0.1| 4414.72314|   289592.0|                  1.3|                1.4|                          0.759|     14.2|\n",
      "|    Albania|2012|Developing|            76.9|             86|            0|   5.14|           412.4433563|         99|       9| 55.8|                 1|   99|             5.59|         99|      0.1| 4247.61438|     2941.0|                  1.3|                1.4|                          0.752|     14.2|\n",
      "+-----------+----+----------+----------------+---------------+-------------+-------+----------------------+-----------+--------+-----+------------------+-----+-----------------+-----------+---------+-----------+-----------+---------------------+-------------------+-------------------------------+---------+\n",
      "only showing top 20 rows\n",
      "\n"
     ]
    },
    {
     "data": {
      "text/plain": [
       "2938"
      ]
     },
     "execution_count": 4,
     "metadata": {},
     "output_type": "execute_result"
    }
   ],
   "source": [
    "df.show()\n",
    "df.count()"
   ]
  },
  {
   "cell_type": "code",
   "execution_count": 5,
   "metadata": {},
   "outputs": [
    {
     "name": "stdout",
     "output_type": "stream",
     "text": [
      "+-------+-----------+------------------+----------+-----------------+------------------+------------------+------------------+\n",
      "|summary|    Country|              Year|    Status| Life expectancy |   Adult Mortality|     infant deaths|           Alcohol|\n",
      "+-------+-----------+------------------+----------+-----------------+------------------+------------------+------------------+\n",
      "|  count|       2938|              2938|      2938|             2928|              2928|              2938|              2744|\n",
      "|   mean|       null|2007.5187202178352|      null|69.22493169398912|164.79644808743168|30.303948264125257|4.6028607871720375|\n",
      "| stddev|       null| 4.613840940258099|      null|9.523867487824305| 124.2920790034219|117.92650131339906| 4.052412658755658|\n",
      "|    min|Afghanistan|              2000| Developed|             36.3|                 1|                 0|              0.01|\n",
      "|    max|   Zimbabwe|              2015|Developing|             89.0|               723|              1800|             17.87|\n",
      "+-------+-----------+------------------+----------+-----------------+------------------+------------------+------------------+\n",
      "\n"
     ]
    }
   ],
   "source": [
    "df.describe('Country',\n",
    " 'Year',\n",
    " 'Status',\n",
    " 'Life expectancy ',\n",
    " 'Adult Mortality',\n",
    " 'infant deaths',\n",
    " 'Alcohol',\n",
    "\n",
    " ).show()"
   ]
  },
  {
   "cell_type": "code",
   "execution_count": 5,
   "metadata": {
    "scrolled": true
   },
   "outputs": [
    {
     "name": "stdout",
     "output_type": "stream",
     "text": [
      "+-------+----------------------+------------------+------------------+------------------+------------------+------------------+\n",
      "|summary|percentage expenditure|       Hepatitis B|          Measles |              BMI |under-five deaths |             Polio|\n",
      "+-------+----------------------+------------------+------------------+------------------+------------------+------------------+\n",
      "|  count|                  2938|              2385|              2938|              2904|              2938|              2919|\n",
      "|   mean|     738.2512954533823| 80.94046121593291|2419.5922396187884| 38.32124655647373|  42.0357385976855| 82.55018842069202|\n",
      "| stddev|     1987.914858016194|25.070015593018063| 11467.27248923461|20.044033502562083| 160.4455484057337|23.428045949468476|\n",
      "|    min|                   0.0|                 1|                 0|               1.0|                 0|                 3|\n",
      "|    max|           19479.91161|                99|            212183|              87.3|              2500|                99|\n",
      "+-------+----------------------+------------------+------------------+------------------+------------------+------------------+\n",
      "\n"
     ]
    }
   ],
   "source": [
    "df.describe('percentage expenditure',\n",
    " 'Hepatitis B',\n",
    " 'Measles ',\n",
    " ' BMI ',\n",
    " 'under-five deaths ',\n",
    " 'Polio',\n",
    " ).show()"
   ]
  },
  {
   "cell_type": "code",
   "execution_count": 6,
   "metadata": {},
   "outputs": [
    {
     "name": "stdout",
     "output_type": "stream",
     "text": [
      "+-------+-----------------+------------------+------------------+------------------+--------------------+---------------------+\n",
      "|summary|      Diphtheria | Total expenditure|          HIV/AIDS|               GDP|          Population| thinness  1-19 years|\n",
      "+-------+-----------------+------------------+------------------+------------------+--------------------+---------------------+\n",
      "|  count|             2919|              2712|              2938|              2490|                2286|                 2904|\n",
      "|   mean|82.32408359027065|5.9381895280235915|1.7421034717494939| 7483.158469138481|1.2753375120052498E7|   4.8397038567493205|\n",
      "| stddev| 23.7169120685726| 2.498319672155633| 5.077784531086547|14270.169341515959| 6.101209650842794E7|    4.420194947144322|\n",
      "|    min|                2|              0.37|               0.1|           1.68135|                34.0|                  0.1|\n",
      "|    max|               99|              17.6|              50.6|       119172.7418|       1.293859294E9|                 27.7|\n",
      "+-------+-----------------+------------------+------------------+------------------+--------------------+---------------------+\n",
      "\n"
     ]
    }
   ],
   "source": [
    "df.describe('Diphtheria ','Total expenditure',\n",
    " ' HIV/AIDS',\n",
    " 'GDP',\n",
    " 'Population',\n",
    " ' thinness  1-19 years',\n",
    "\n",
    " ).show()"
   ]
  },
  {
   "cell_type": "code",
   "execution_count": 7,
   "metadata": {},
   "outputs": [
    {
     "name": "stdout",
     "output_type": "stream",
     "text": [
      "+-------+-------------------+-------------------------------+------------------+\n",
      "|summary| thinness 5-9 years|Income composition of resources|         Schooling|\n",
      "+-------+-------------------+-------------------------------+------------------+\n",
      "|  count|               2904|                           2771|              2775|\n",
      "|   mean|  4.870316804407711|             0.6275510645976166|11.992792792792786|\n",
      "| stddev|  4.508882086983007|             0.2109035551515931|3.3589197211023554|\n",
      "|    min|                0.1|                            0.0|               0.0|\n",
      "|    max|               28.6|                          0.948|              20.7|\n",
      "+-------+-------------------+-------------------------------+------------------+\n",
      "\n"
     ]
    }
   ],
   "source": [
    "df.describe(' thinness 5-9 years',\n",
    " 'Income composition of resources',\n",
    " 'Schooling'\n",
    " ).show()"
   ]
  },
  {
   "cell_type": "code",
   "execution_count": 3,
   "metadata": {
    "scrolled": false
   },
   "outputs": [
    {
     "data": {
      "text/plain": [
       "['Country',\n",
       " 'Year',\n",
       " 'Status',\n",
       " 'Life_Expectancy',\n",
       " 'Adult_Mortality',\n",
       " 'Infant_Deaths',\n",
       " 'Alcohol',\n",
       " 'Percentage_Exp',\n",
       " 'HepatitisB',\n",
       " 'Measles',\n",
       " 'BMI',\n",
       " 'Under_Five_Deaths',\n",
       " 'Polio',\n",
       " 'Tot_Exp',\n",
       " 'Diphtheria',\n",
       " 'HIV/AIDS',\n",
       " 'GDP',\n",
       " 'Population',\n",
       " 'thinness_1to19_years',\n",
       " 'thinness_5to9_years',\n",
       " 'Income_Comp_Of_Resources',\n",
       " 'Schooling']"
      ]
     },
     "execution_count": 3,
     "metadata": {},
     "output_type": "execute_result"
    }
   ],
   "source": [
    "\n",
    "df_renamed = (df.withColumnRenamed(' BMI ', \"BMI\")\n",
    " .withColumnRenamed(\"Life expectancy \",\"Life_Expectancy\")\n",
    " .withColumnRenamed(\"Adult Mortality\",\"Adult_Mortality\")\n",
    " .withColumnRenamed(\"infant deaths\",\"Infant_Deaths\")\n",
    " .withColumnRenamed(\"percentage expenditure\",\"Percentage_Exp\")\n",
    " .withColumnRenamed(\"Hepatitis B\",\"HepatitisB\")\n",
    " .withColumnRenamed(\"Measles \",\"Measles\")\n",
    " .withColumnRenamed(\"under-five deaths \",\"Under_Five_Deaths\")\n",
    " .withColumnRenamed(\"Diphtheria \",\"Diphtheria\")\n",
    "  .withColumnRenamed(\" HIV/AIDS\",\"HIV/AIDS\")\n",
    " .withColumnRenamed(\" thinness  1-19 years\",\"thinness_1to19_years\")\n",
    " .withColumnRenamed(\" thinness 5-9 years\",\"thinness_5to9_years\")\n",
    " .withColumnRenamed(\"Income composition of resources\",\"Income_Comp_Of_Resources\")\n",
    " .withColumnRenamed(\"Total expenditure\",\"Tot_Exp\"))   \n",
    "\n",
    "df_renamed.columns"
   ]
  },
  {
   "cell_type": "code",
   "execution_count": 4,
   "metadata": {
    "scrolled": true
   },
   "outputs": [
    {
     "name": "stdout",
     "output_type": "stream",
     "text": [
      "+-----------+----+----------+---------------+---------------+-------------+-------+--------------+----------+-------+----+-----------------+-----+-------+----------+--------+-----------+-----------+--------------------+-------------------+------------------------+---------+\n",
      "|    Country|Year|    Status|Life_Expectancy|Adult_Mortality|Infant_Deaths|Alcohol|Percentage_Exp|HepatitisB|Measles| BMI|Under_Five_Deaths|Polio|Tot_Exp|Diphtheria|HIV/AIDS|        GDP| Population|thinness_1to19_years|thinness_5to9_years|Income_Comp_Of_Resources|Schooling|\n",
      "+-----------+----+----------+---------------+---------------+-------------+-------+--------------+----------+-------+----+-----------------+-----+-------+----------+--------+-----------+-----------+--------------------+-------------------+------------------------+---------+\n",
      "|Afghanistan|2015|Developing|           65.0|            263|           62|   0.01|   71.27962362|        65|   1154|19.1|               83|    6|   8.16|        65|     0.1|  584.25921|3.3736494E7|                17.2|               17.3|                   0.479|     10.1|\n",
      "|Afghanistan|2014|Developing|           59.9|            271|           64|   0.01|   73.52358168|        62|    492|18.6|               86|   58|   8.18|        62|     0.1| 612.696514|   327582.0|                17.5|               17.5|                   0.476|     10.0|\n",
      "|Afghanistan|2013|Developing|           59.9|            268|           66|   0.01|   73.21924272|        64|    430|18.1|               89|   62|   8.13|        64|     0.1| 631.744976|3.1731688E7|                17.7|               17.7|                    0.47|      9.9|\n",
      "|Afghanistan|2012|Developing|           59.5|            272|           69|   0.01|    78.1842153|        67|   2787|17.6|               93|   67|   8.52|        67|     0.1|    669.959|  3696958.0|                17.9|               18.0|                   0.463|      9.8|\n",
      "|Afghanistan|2011|Developing|           59.2|            275|           71|   0.01|   7.097108703|        68|   3013|17.2|               97|   68|   7.87|        68|     0.1|  63.537231|  2978599.0|                18.2|               18.2|                   0.454|      9.5|\n",
      "|Afghanistan|2010|Developing|           58.8|            279|           74|   0.01|   79.67936736|        66|   1989|16.7|              102|   66|    9.2|        66|     0.1|  553.32894|  2883167.0|                18.4|               18.4|                   0.448|      9.2|\n",
      "|Afghanistan|2009|Developing|           58.6|            281|           77|   0.01|   56.76221682|        63|   2861|16.2|              106|   63|   9.42|        63|     0.1|445.8932979|   284331.0|                18.6|               18.7|                   0.434|      8.9|\n",
      "|Afghanistan|2008|Developing|           58.1|            287|           80|   0.03|   25.87392536|        64|   1599|15.7|              110|   64|   8.33|        64|     0.1|373.3611163|  2729431.0|                18.8|               18.9|                   0.433|      8.7|\n",
      "|Afghanistan|2007|Developing|           57.5|            295|           82|   0.02|   10.91015598|        63|   1141|15.2|              113|   63|   6.73|        63|     0.1| 369.835796|2.6616792E7|                19.0|               19.1|                   0.415|      8.4|\n",
      "|Afghanistan|2006|Developing|           57.3|            295|           84|   0.03|   17.17151751|        64|   1990|14.7|              116|   58|   7.43|        58|     0.1|  272.56377|  2589345.0|                19.2|               19.3|                   0.405|      8.1|\n",
      "|Afghanistan|2005|Developing|           57.3|            291|           85|   0.02|   1.388647732|        66|   1296|14.2|              118|   58|    8.7|        58|     0.1| 25.2941299|   257798.0|                19.3|               19.5|                   0.396|      7.9|\n",
      "|Afghanistan|2004|Developing|           57.0|            293|           87|   0.02|   15.29606643|        67|    466|13.8|              120|    5|   8.79|         5|     0.1|219.1413528|2.4118979E7|                19.5|               19.7|                   0.381|      6.8|\n",
      "|Afghanistan|2003|Developing|           56.7|            295|           87|   0.01|   11.08905273|        65|    798|13.4|              122|   41|   8.82|        41|     0.1|198.7285436|  2364851.0|                19.7|               19.9|                   0.373|      6.5|\n",
      "|Afghanistan|2002|Developing|           56.2|              3|           88|   0.01|   16.88735091|        64|   2486|13.0|              122|   36|   7.76|        36|     0.1|  187.84595|2.1979923E7|                19.9|                2.2|                   0.341|      6.2|\n",
      "|Afghanistan|2001|Developing|           55.3|            316|           88|   0.01|    10.5747282|        63|   8762|12.6|              122|   35|    7.8|        33|     0.1|  117.49698|  2966463.0|                 2.1|                2.4|                    0.34|      5.9|\n",
      "|Afghanistan|2000|Developing|           54.8|            321|           88|   0.01|      10.42496|        62|   6532|12.2|              122|   24|    8.2|        24|     0.1|     114.56|   293756.0|                 2.3|                2.5|                   0.338|      5.5|\n",
      "|    Albania|2015|Developing|           77.8|             74|            0|    4.6|   364.9752287|        99|      0|58.0|                0|   99|    6.0|        99|     0.1| 3954.22783|    28873.0|                 1.2|                1.3|                   0.762|     14.2|\n",
      "|    Albania|2014|Developing|           77.5|              8|            0|   4.51|   428.7490668|        98|      0|57.2|                1|   98|   5.88|        98|     0.1|4575.763787|   288914.0|                 1.2|                1.3|                   0.761|     14.2|\n",
      "|    Albania|2013|Developing|           77.2|             84|            0|   4.76|   430.8769785|        99|      0|56.5|                1|   99|   5.66|        99|     0.1| 4414.72314|   289592.0|                 1.3|                1.4|                   0.759|     14.2|\n",
      "|    Albania|2012|Developing|           76.9|             86|            0|   5.14|   412.4433563|        99|      9|55.8|                1|   99|   5.59|        99|     0.1| 4247.61438|     2941.0|                 1.3|                1.4|                   0.752|     14.2|\n",
      "+-----------+----+----------+---------------+---------------+-------------+-------+--------------+----------+-------+----+-----------------+-----+-------+----------+--------+-----------+-----------+--------------------+-------------------+------------------------+---------+\n",
      "only showing top 20 rows\n",
      "\n"
     ]
    },
    {
     "data": {
      "text/plain": [
       "2730"
      ]
     },
     "execution_count": 4,
     "metadata": {},
     "output_type": "execute_result"
    }
   ],
   "source": [
    "df_new=df_renamed.na.drop(thresh=19)\n",
    "df_new.show()\n",
    "df_new.count()"
   ]
  },
  {
   "cell_type": "code",
   "execution_count": 5,
   "metadata": {},
   "outputs": [],
   "source": [
    "from pyspark.sql.functions import mean\n",
    "mean_Life_Expectancy = df_new.select(mean(df_new['Life_Expectancy'])).collect()\n",
    "mean_Adult_Mortality = df_new.select(mean(df_new['Adult_Mortality'])).collect()\n",
    "mean_Alcohol = df_new.select(mean(df_new['Alcohol'])).collect()\n",
    "mean_HepatitisB = df_new.select(mean(df_new['HepatitisB'])).collect()\n",
    "mean_BMI = df_new.select(mean(df_new['BMI'])).collect()\n",
    "mean_Polio = df_new.select(mean(df_new['Polio'])).collect()\n",
    "mean_Diphtheria = df_new.select(mean(df_new['Diphtheria'])).collect()\n",
    "mean_Tot_Exp = df_new.select(mean(df_new['Tot_Exp'])).collect()\n",
    "mean_GDP = df_new.select(mean(df_new['GDP'])).collect()\n",
    "mean_Population = df_new.select(mean(df_new['Population'])).collect()\n",
    "mean_thinness_1to19_years = df_new.select(mean(df_new['thinness_1to19_years'])).collect()\n",
    "mean_thinness_5to9_years = df_new.select(mean(df_new['thinness_5to9_years'])).collect()\n",
    "mean_Income_Comp_Of_Resources = df_new.select(mean(df_new['Income_Comp_Of_Resources'])).collect()\n",
    "mean_Schooling = df_new.select(mean(df_new['Schooling'])).collect()"
   ]
  },
  {
   "cell_type": "code",
   "execution_count": 6,
   "metadata": {},
   "outputs": [],
   "source": [
    "mean_Life_Expectancy[0][0]\n",
    "mean_Life_Expectancy_val = mean_Life_Expectancy[0][0]\n",
    "\n",
    "mean_Adult_Mortality[0][0]\n",
    "mean_Adult_Mortality_val = mean_Adult_Mortality[0][0]\n",
    "\n",
    "mean_Alcohol[0][0]\n",
    "mean_Alcohol_val = mean_Alcohol[0][0]\n",
    "\n",
    "mean_HepatitisB[0][0]\n",
    "mean_HepatitisB_val = mean_HepatitisB[0][0]\n",
    "\n",
    "mean_BMI[0][0]\n",
    "mean_BMI_val = mean_BMI[0][0]\n",
    "\n",
    "mean_Polio[0][0]\n",
    "mean_Polio_val = mean_Polio[0][0]\n",
    "\n",
    "\n",
    "mean_Diphtheria[0][0]\n",
    "mean_Diphtheria_val = mean_Diphtheria[0][0]\n",
    "\n",
    "mean_Tot_Exp[0][0]\n",
    "mean_Tot_Exp_val = mean_Tot_Exp[0][0]\n",
    "\n",
    "mean_GDP[0][0]\n",
    "mean_GDP_val = mean_GDP[0][0]\n",
    "\n",
    "mean_Population[0][0]\n",
    "mean_Population_val = mean_Population[0][0]\n",
    "\n",
    "mean_thinness_1to19_years[0][0]\n",
    "mean_thinness_1to19_years_val = mean_thinness_1to19_years[0][0]\n",
    "\n",
    "mean_thinness_5to9_years[0][0]\n",
    "mean_thinness_5to9_years_val = mean_thinness_5to9_years[0][0]\n",
    "\n",
    "mean_Income_Comp_Of_Resources[0][0]\n",
    "mean_Income_Comp_Of_Resources_val = mean_Income_Comp_Of_Resources[0][0]\n",
    "\n",
    "mean_Schooling[0][0]\n",
    "mean_Schooling_val = mean_Schooling[0][0]"
   ]
  },
  {
   "cell_type": "code",
   "execution_count": 7,
   "metadata": {},
   "outputs": [],
   "source": [
    "import math\n",
    "from pyspark.sql import functions as func  #\n",
    "clean_data = df_new.na.fill({'Life_Expectancy':mean_Life_Expectancy_val})\n",
    "clean_data1 = clean_data.na.fill({'Adult_Mortality':mean_Adult_Mortality_val})\n",
    "clean_data2 = clean_data1.na.fill({'Alcohol':mean_Alcohol_val})\n",
    "clean_data3 = clean_data2.na.fill({'HepatitisB':mean_HepatitisB_val})\n",
    "clean_data4 = clean_data3.na.fill({'BMI':mean_BMI_val})\n",
    "clean_data5 = clean_data4.na.fill({'Polio':mean_Polio_val})\n",
    "clean_data6 = clean_data5.na.fill({'Diphtheria':mean_Diphtheria_val})\n",
    "clean_data7 = clean_data6.na.fill({'Tot_Exp':mean_Tot_Exp_val})\n",
    "clean_data8 = clean_data7.na.fill({'GDP':mean_GDP_val})\n",
    "clean_data9 = clean_data8.na.fill({'Population':mean_Population_val})\n",
    "clean_data10 = clean_data8.na.fill({'thinness_1to19_years':mean_thinness_1to19_years_val})\n",
    "clean_data11 = clean_data10.na.fill({'thinness_5to9_years':mean_thinness_5to9_years_val})\n",
    "clean_data12 = clean_data11.na.fill({'Income_Comp_Of_Resources':mean_Income_Comp_Of_Resources_val})\n",
    "clean_data13 = clean_data12.na.fill({'Schooling':mean_Schooling_val})\n"
   ]
  },
  {
   "cell_type": "code",
   "execution_count": 11,
   "metadata": {},
   "outputs": [
    {
     "name": "stdout",
     "output_type": "stream",
     "text": [
      "+-------+-----------+------------------+----------+-----------------+------------------+------------------+------------------+-----------------+------------------+-----------------+-----------------+------------------+------------------+------------------+------------------+------------------+-----------------+--------------------+--------------------+-------------------+------------------------+------------------+\n",
      "|summary|    Country|              Year|    Status|  Life_Expectancy|   Adult_Mortality|     Infant_Deaths|           Alcohol|   Percentage_Exp|        HepatitisB|          Measles|              BMI| Under_Five_Deaths|             Polio|           Tot_Exp|        Diphtheria|          HIV/AIDS|              GDP|          Population|thinness_1to19_years|thinness_5to9_years|Income_Comp_Of_Resources|         Schooling|\n",
      "+-------+-----------+------------------+----------+-----------------+------------------+------------------+------------------+-----------------+------------------+-----------------+-----------------+------------------+------------------+------------------+------------------+------------------+-----------------+--------------------+--------------------+-------------------+------------------------+------------------+\n",
      "|  count|       2730|              2730|      2730|             2730|              2730|              2730|              2730|             2730|              2730|             2730|             2730|              2730|              2730|              2730|              2730|              2730|             2730|                2263|                2730|               2730|                    2730|              2730|\n",
      "|   mean|       null|2007.4648351648352|      null|69.44264759809316|161.76813186813186|29.399267399267398| 4.522340178225533| 793.872855383468| 80.72564102564102|2203.671062271062|38.50264705882342| 40.66263736263736| 82.81208791208792| 5.880423136645968| 82.79120879120879|1.7608791208791041|7534.938266136369|1.2826078836252766E7|   4.875919117647061|  4.915551470588229|      0.6305840967387303|12.069963369963368|\n",
      "| stddev|       null| 4.583460162729551|      null|9.325677623151176|122.60567599941966|121.06268314281637|3.8988436083467697|2051.563044832353|22.655508812721116|10620.94912314885|19.84705112187241|164.59226222559948|23.032840965739783|2.3147071198075486|23.167250714829397| 5.219772492866397|13616.86005943553| 6.131190753550453E7|   4.473785568305485|  4.565228249242125|      0.2080121280586634| 3.257271764284364|\n",
      "|    min|Afghanistan|              2000| Developed|             36.3|                 1|                 0|              0.01|              0.0|                 2|                0|              1.0|                 0|                 3|              0.37|                 2|               0.1|          1.68135|                34.0|                 0.1|                0.1|                     0.0|               0.0|\n",
      "|    max|   Zimbabwe|              2015|Developing|             89.0|               723|              1800|             17.87|      19479.91161|                99|           212183|             83.3|              2500|                99|             16.61|                99|              50.6|      119172.7418|       1.293859294E9|                27.7|               28.6|                   0.948|              20.7|\n",
      "+-------+-----------+------------------+----------+-----------------+------------------+------------------+------------------+-----------------+------------------+-----------------+-----------------+------------------+------------------+------------------+------------------+------------------+-----------------+--------------------+--------------------+-------------------+------------------------+------------------+\n",
      "\n"
     ]
    }
   ],
   "source": [
    "clean_data13.describe().show()\n"
   ]
  },
  {
   "cell_type": "code",
   "execution_count": 8,
   "metadata": {},
   "outputs": [],
   "source": [
    "from pyspark.ml.regression import LinearRegression\n",
    "from pyspark.ml.linalg import Vectors\n",
    "from pyspark.ml.feature import VectorAssembler"
   ]
  },
  {
   "cell_type": "code",
   "execution_count": 9,
   "metadata": {},
   "outputs": [],
   "source": [
    "assembler = VectorAssembler(\n",
    "    inputCols=[ \n",
    " 'Adult_Mortality',\n",
    " 'Infant_Deaths',\n",
    " 'Alcohol',\n",
    " 'Percentage_Exp',\n",
    " 'HepatitisB',\n",
    " 'Measles',\n",
    " 'BMI',\n",
    " 'Under_Five_Deaths',\n",
    " 'Polio',\n",
    " 'Tot_Exp',\n",
    " 'Diphtheria',\n",
    " 'HIV/AIDS',\n",
    " 'GDP',\n",
    " 'thinness_1to19_years',\n",
    " 'thinness_5to9_years',\n",
    " 'Income_Comp_Of_Resources',\n",
    " 'Schooling'],\n",
    "    outputCol=\"features\")"
   ]
  },
  {
   "cell_type": "code",
   "execution_count": 10,
   "metadata": {},
   "outputs": [
    {
     "name": "stdout",
     "output_type": "stream",
     "text": [
      "root\n",
      " |-- Country: string (nullable = true)\n",
      " |-- Year: integer (nullable = true)\n",
      " |-- Status: string (nullable = true)\n",
      " |-- Life_Expectancy: double (nullable = false)\n",
      " |-- Adult_Mortality: integer (nullable = true)\n",
      " |-- Infant_Deaths: integer (nullable = true)\n",
      " |-- Alcohol: double (nullable = false)\n",
      " |-- Percentage_Exp: double (nullable = true)\n",
      " |-- HepatitisB: integer (nullable = true)\n",
      " |-- Measles: integer (nullable = true)\n",
      " |-- BMI: double (nullable = false)\n",
      " |-- Under_Five_Deaths: integer (nullable = true)\n",
      " |-- Polio: integer (nullable = true)\n",
      " |-- Tot_Exp: double (nullable = false)\n",
      " |-- Diphtheria: integer (nullable = true)\n",
      " |-- HIV/AIDS: double (nullable = true)\n",
      " |-- GDP: double (nullable = false)\n",
      " |-- Population: double (nullable = true)\n",
      " |-- thinness_1to19_years: double (nullable = false)\n",
      " |-- thinness_5to9_years: double (nullable = false)\n",
      " |-- Income_Comp_Of_Resources: double (nullable = false)\n",
      " |-- Schooling: double (nullable = false)\n",
      " |-- features: vector (nullable = true)\n",
      "\n"
     ]
    },
    {
     "data": {
      "text/plain": [
       "[Row(Country='Afghanistan', Year=2015, Status='Developing', Life_Expectancy=65.0, Adult_Mortality=263, Infant_Deaths=62, Alcohol=0.01, Percentage_Exp=71.27962362, HepatitisB=65, Measles=1154, BMI=19.1, Under_Five_Deaths=83, Polio=6, Tot_Exp=8.16, Diphtheria=65, HIV/AIDS=0.1, GDP=584.25921, Population=33736494.0, thinness_1to19_years=17.2, thinness_5to9_years=17.3, Income_Comp_Of_Resources=0.479, Schooling=10.1, features=DenseVector([263.0, 62.0, 0.01, 71.2796, 65.0, 1154.0, 19.1, 83.0, 6.0, 8.16, 65.0, 0.1, 584.2592, 17.2, 17.3, 0.479, 10.1]))]"
      ]
     },
     "execution_count": 10,
     "metadata": {},
     "output_type": "execute_result"
    }
   ],
   "source": [
    "output = assembler.transform(clean_data13)\n",
    "output.printSchema()\n",
    "output.head(1)"
   ]
  },
  {
   "cell_type": "code",
   "execution_count": 11,
   "metadata": {},
   "outputs": [
    {
     "name": "stdout",
     "output_type": "stream",
     "text": [
      "+--------------------+---------------+\n",
      "|            features|Life_Expectancy|\n",
      "+--------------------+---------------+\n",
      "|[263.0,62.0,0.01,...|           65.0|\n",
      "|[271.0,64.0,0.01,...|           59.9|\n",
      "|[268.0,66.0,0.01,...|           59.9|\n",
      "|[272.0,69.0,0.01,...|           59.5|\n",
      "|[275.0,71.0,0.01,...|           59.2|\n",
      "|[279.0,74.0,0.01,...|           58.8|\n",
      "|[281.0,77.0,0.01,...|           58.6|\n",
      "|[287.0,80.0,0.03,...|           58.1|\n",
      "|[295.0,82.0,0.02,...|           57.5|\n",
      "|[295.0,84.0,0.03,...|           57.3|\n",
      "|[291.0,85.0,0.02,...|           57.3|\n",
      "|[293.0,87.0,0.02,...|           57.0|\n",
      "|[295.0,87.0,0.01,...|           56.7|\n",
      "|[3.0,88.0,0.01,16...|           56.2|\n",
      "|[316.0,88.0,0.01,...|           55.3|\n",
      "|[321.0,88.0,0.01,...|           54.8|\n",
      "|[74.0,0.0,4.6,364...|           77.8|\n",
      "|[8.0,0.0,4.51,428...|           77.5|\n",
      "|[84.0,0.0,4.76,43...|           77.2|\n",
      "|[86.0,0.0,5.14,41...|           76.9|\n",
      "+--------------------+---------------+\n",
      "only showing top 20 rows\n",
      "\n"
     ]
    }
   ],
   "source": [
    "final_data = output.select(\"features\",'Life_Expectancy')\n",
    "final_data.show()"
   ]
  },
  {
   "cell_type": "code",
   "execution_count": 12,
   "metadata": {},
   "outputs": [
    {
     "data": {
      "text/plain": [
       "[('Country', 'string'),\n",
       " ('Year', 'int'),\n",
       " ('Status', 'string'),\n",
       " ('Life expectancy ', 'double'),\n",
       " ('Adult Mortality', 'int'),\n",
       " ('infant deaths', 'int'),\n",
       " ('Alcohol', 'double'),\n",
       " ('percentage expenditure', 'double'),\n",
       " ('Hepatitis B', 'int'),\n",
       " ('Measles ', 'int'),\n",
       " (' BMI ', 'double'),\n",
       " ('under-five deaths ', 'int'),\n",
       " ('Polio', 'int'),\n",
       " ('Total expenditure', 'double'),\n",
       " ('Diphtheria ', 'int'),\n",
       " (' HIV/AIDS', 'double'),\n",
       " ('GDP', 'double'),\n",
       " ('Population', 'double'),\n",
       " (' thinness  1-19 years', 'double'),\n",
       " (' thinness 5-9 years', 'double'),\n",
       " ('Income composition of resources', 'double'),\n",
       " ('Schooling', 'double')]"
      ]
     },
     "execution_count": 12,
     "metadata": {},
     "output_type": "execute_result"
    }
   ],
   "source": [
    "df.dtypes\n"
   ]
  },
  {
   "cell_type": "code",
   "execution_count": 13,
   "metadata": {},
   "outputs": [],
   "source": [
    "from pyspark.sql.types import IntegerType \n",
    "df = df.withColumn(\"Schooling\", df[\"Schooling\"].cast(IntegerType()))\n",
    "df = df.withColumn(\" thinness 5-9 years\", df[\" thinness 5-9 years\"].cast(IntegerType()))\n",
    "df = df.withColumn(\" thinness  1-19 years\", df[\" thinness  1-19 years\"].cast(IntegerType()))\n",
    "df = df.withColumn(\"Income composition of resources\", df[\"Income composition of resources\"].cast(IntegerType()))\n",
    "df = df.withColumn(\"Population\", df[\"Population\"].cast(IntegerType()))\n",
    "df = df.withColumn(\"GDP\", df[\"GDP\"].cast(IntegerType()))\n",
    "df = df.withColumn(\" HIV/AIDS\", df[\" HIV/AIDS\"].cast(IntegerType()))\n",
    "df = df.withColumn(\"Total expenditure\", df[\"Total expenditure\"].cast(IntegerType()))\n",
    "df = df.withColumn(\" BMI \", df[\" BMI \"].cast(IntegerType()))\n",
    "df = df.withColumn(\"percentage expenditure\", df[\"percentage expenditure\"].cast(IntegerType()))\n",
    "df = df.withColumn(\"Alcohol\", df[\"Alcohol\"].cast(IntegerType()))\n",
    "df = df.withColumn(\"Life expectancy \", df[\"Life expectancy \"].cast(IntegerType()))"
   ]
  },
  {
   "cell_type": "code",
   "execution_count": 14,
   "metadata": {},
   "outputs": [
    {
     "data": {
      "text/plain": [
       "[('Country', 'string'),\n",
       " ('Year', 'int'),\n",
       " ('Status', 'string'),\n",
       " ('Life expectancy ', 'int'),\n",
       " ('Adult Mortality', 'int'),\n",
       " ('infant deaths', 'int'),\n",
       " ('Alcohol', 'int'),\n",
       " ('percentage expenditure', 'int'),\n",
       " ('Hepatitis B', 'int'),\n",
       " ('Measles ', 'int'),\n",
       " (' BMI ', 'int'),\n",
       " ('under-five deaths ', 'int'),\n",
       " ('Polio', 'int'),\n",
       " ('Total expenditure', 'int'),\n",
       " ('Diphtheria ', 'int'),\n",
       " (' HIV/AIDS', 'int'),\n",
       " ('GDP', 'int'),\n",
       " ('Population', 'int'),\n",
       " (' thinness  1-19 years', 'int'),\n",
       " (' thinness 5-9 years', 'int'),\n",
       " ('Income composition of resources', 'int'),\n",
       " ('Schooling', 'int')]"
      ]
     },
     "execution_count": 14,
     "metadata": {},
     "output_type": "execute_result"
    }
   ],
   "source": [
    "df.dtypes"
   ]
  },
  {
   "cell_type": "code",
   "execution_count": 15,
   "metadata": {},
   "outputs": [
    {
     "data": {
      "text/plain": [
       "-0.03503139098727614"
      ]
     },
     "execution_count": 15,
     "metadata": {},
     "output_type": "execute_result"
    }
   ],
   "source": [
    "clean_data13.corr('Life_Expectancy', 'Population')\n"
   ]
  },
  {
   "cell_type": "code",
   "execution_count": 16,
   "metadata": {},
   "outputs": [
    {
     "data": {
      "text/plain": [
       "0.16903284583324624"
      ]
     },
     "execution_count": 16,
     "metadata": {},
     "output_type": "execute_result"
    }
   ],
   "source": [
    "clean_data13.corr('Life_Expectancy', 'Year')\n"
   ]
  },
  {
   "cell_type": "code",
   "execution_count": 17,
   "metadata": {},
   "outputs": [
    {
     "data": {
      "text/plain": [
       "0.7475799189697406"
      ]
     },
     "execution_count": 17,
     "metadata": {},
     "output_type": "execute_result"
    }
   ],
   "source": [
    "clean_data13.corr('Life_Expectancy', 'Schooling')"
   ]
  },
  {
   "cell_type": "code",
   "execution_count": 18,
   "metadata": {},
   "outputs": [
    {
     "data": {
      "text/plain": [
       "-0.6807850642940996"
      ]
     },
     "execution_count": 18,
     "metadata": {},
     "output_type": "execute_result"
    }
   ],
   "source": [
    "clean_data13.corr('Life_Expectancy', 'Adult_Mortality')"
   ]
  },
  {
   "cell_type": "code",
   "execution_count": 19,
   "metadata": {},
   "outputs": [
    {
     "name": "stdout",
     "output_type": "stream",
     "text": [
      "+-------+-----------+----------+-----------------+------------------+------------------+------------------+-----------------+------------------+-----------------+-----------------+------------------+------------------+------------------+------------------+------------------+-----------------+--------------------+-------------------+------------------------+------------------+\n",
      "|summary|    Country|    Status|  Life_Expectancy|   Adult_Mortality|     Infant_Deaths|           Alcohol|   Percentage_Exp|        HepatitisB|          Measles|              BMI| Under_Five_Deaths|             Polio|           Tot_Exp|        Diphtheria|          HIV/AIDS|              GDP|thinness_1to19_years|thinness_5to9_years|Income_Comp_Of_Resources|         Schooling|\n",
      "+-------+-----------+----------+-----------------+------------------+------------------+------------------+-----------------+------------------+-----------------+-----------------+------------------+------------------+------------------+------------------+------------------+-----------------+--------------------+-------------------+------------------------+------------------+\n",
      "|  count|       2730|      2730|             2730|              2730|              2730|              2730|             2730|              2730|             2730|             2730|              2730|              2730|              2730|              2730|              2730|             2730|                2730|               2730|                    2730|              2730|\n",
      "|   mean|       null|      null|69.44264759809316|161.76813186813186|29.399267399267398| 4.522340178225533| 793.872855383468| 80.72564102564102|2203.671062271062|38.50264705882342| 40.66263736263736| 82.81208791208792| 5.880423136645968| 82.79120879120879|1.7608791208791041|7534.938266136369|   4.875919117647061|  4.915551470588229|      0.6305840967387303|12.069963369963368|\n",
      "| stddev|       null|      null|9.325677623151176|122.60567599941966|121.06268314281637|3.8988436083467697|2051.563044832353|22.655508812721116|10620.94912314885|19.84705112187241|164.59226222559948|23.032840965739783|2.3147071198075486|23.167250714829397| 5.219772492866397|13616.86005943553|   4.473785568305485|  4.565228249242125|      0.2080121280586634| 3.257271764284364|\n",
      "|    min|Afghanistan| Developed|             36.3|                 1|                 0|              0.01|              0.0|                 2|                0|              1.0|                 0|                 3|              0.37|                 2|               0.1|          1.68135|                 0.1|                0.1|                     0.0|               0.0|\n",
      "|    max|   Zimbabwe|Developing|             89.0|               723|              1800|             17.87|      19479.91161|                99|           212183|             83.3|              2500|                99|             16.61|                99|              50.6|      119172.7418|                27.7|               28.6|                   0.948|              20.7|\n",
      "+-------+-----------+----------+-----------------+------------------+------------------+------------------+-----------------+------------------+-----------------+-----------------+------------------+------------------+------------------+------------------+------------------+-----------------+--------------------+-------------------+------------------------+------------------+\n",
      "\n"
     ]
    }
   ],
   "source": [
    "df_a= clean_data13.drop('Population','Year' )\n",
    "df_a.describe().show()"
   ]
  },
  {
   "cell_type": "code",
   "execution_count": 20,
   "metadata": {},
   "outputs": [
    {
     "data": {
      "text/plain": [
       "DataFrame[features: vector, Life_Expectancy: double]"
      ]
     },
     "execution_count": 20,
     "metadata": {},
     "output_type": "execute_result"
    }
   ],
   "source": [
    "final_data\n"
   ]
  },
  {
   "cell_type": "code",
   "execution_count": 21,
   "metadata": {},
   "outputs": [
    {
     "name": "stdout",
     "output_type": "stream",
     "text": [
      "root\n",
      " |-- Country: string (nullable = true)\n",
      " |-- Status: string (nullable = true)\n",
      " |-- Life_Expectancy: double (nullable = false)\n",
      " |-- Adult_Mortality: integer (nullable = true)\n",
      " |-- Infant_Deaths: integer (nullable = true)\n",
      " |-- Alcohol: double (nullable = false)\n",
      " |-- Percentage_Exp: double (nullable = true)\n",
      " |-- HepatitisB: integer (nullable = true)\n",
      " |-- Measles: integer (nullable = true)\n",
      " |-- BMI: double (nullable = false)\n",
      " |-- Under_Five_Deaths: integer (nullable = true)\n",
      " |-- Polio: integer (nullable = true)\n",
      " |-- Tot_Exp: double (nullable = false)\n",
      " |-- Diphtheria: integer (nullable = true)\n",
      " |-- HIV/AIDS: double (nullable = true)\n",
      " |-- GDP: double (nullable = false)\n",
      " |-- thinness_1to19_years: double (nullable = false)\n",
      " |-- thinness_5to9_years: double (nullable = false)\n",
      " |-- Income_Comp_Of_Resources: double (nullable = false)\n",
      " |-- Schooling: double (nullable = false)\n",
      " |-- features: vector (nullable = true)\n",
      "\n"
     ]
    },
    {
     "data": {
      "text/plain": [
       "[Row(Country='Afghanistan', Status='Developing', Life_Expectancy=65.0, Adult_Mortality=263, Infant_Deaths=62, Alcohol=0.01, Percentage_Exp=71.27962362, HepatitisB=65, Measles=1154, BMI=19.1, Under_Five_Deaths=83, Polio=6, Tot_Exp=8.16, Diphtheria=65, HIV/AIDS=0.1, GDP=584.25921, thinness_1to19_years=17.2, thinness_5to9_years=17.3, Income_Comp_Of_Resources=0.479, Schooling=10.1, features=DenseVector([263.0, 62.0, 0.01, 71.2796, 65.0, 1154.0, 19.1, 83.0, 6.0, 8.16, 65.0, 0.1, 584.2592, 17.2, 17.3, 0.479, 10.1]))]"
      ]
     },
     "execution_count": 21,
     "metadata": {},
     "output_type": "execute_result"
    }
   ],
   "source": [
    "output2 = assembler.transform(df_a)\n",
    "output2.printSchema()\n",
    "output2.head(1)"
   ]
  },
  {
   "cell_type": "code",
   "execution_count": 22,
   "metadata": {},
   "outputs": [
    {
     "name": "stdout",
     "output_type": "stream",
     "text": [
      "+--------------------+---------------+\n",
      "|            features|Life_Expectancy|\n",
      "+--------------------+---------------+\n",
      "|[263.0,62.0,0.01,...|           65.0|\n",
      "|[271.0,64.0,0.01,...|           59.9|\n",
      "|[268.0,66.0,0.01,...|           59.9|\n",
      "|[272.0,69.0,0.01,...|           59.5|\n",
      "|[275.0,71.0,0.01,...|           59.2|\n",
      "|[279.0,74.0,0.01,...|           58.8|\n",
      "|[281.0,77.0,0.01,...|           58.6|\n",
      "|[287.0,80.0,0.03,...|           58.1|\n",
      "|[295.0,82.0,0.02,...|           57.5|\n",
      "|[295.0,84.0,0.03,...|           57.3|\n",
      "|[291.0,85.0,0.02,...|           57.3|\n",
      "|[293.0,87.0,0.02,...|           57.0|\n",
      "|[295.0,87.0,0.01,...|           56.7|\n",
      "|[3.0,88.0,0.01,16...|           56.2|\n",
      "|[316.0,88.0,0.01,...|           55.3|\n",
      "|[321.0,88.0,0.01,...|           54.8|\n",
      "|[74.0,0.0,4.6,364...|           77.8|\n",
      "|[8.0,0.0,4.51,428...|           77.5|\n",
      "|[84.0,0.0,4.76,43...|           77.2|\n",
      "|[86.0,0.0,5.14,41...|           76.9|\n",
      "+--------------------+---------------+\n",
      "only showing top 20 rows\n",
      "\n"
     ]
    }
   ],
   "source": [
    "final= output2.select(\"features\",'Life_Expectancy')\n",
    "final.show()"
   ]
  },
  {
   "cell_type": "code",
   "execution_count": 23,
   "metadata": {},
   "outputs": [
    {
     "name": "stdout",
     "output_type": "stream",
     "text": [
      "+--------------------+---------------+--------------------+\n",
      "|            features|Life_Expectancy|  NormalizerFeatures|\n",
      "+--------------------+---------------+--------------------+\n",
      "|[263.0,62.0,0.01,...|           65.0|[0.19781301387806...|\n",
      "|[271.0,64.0,0.01,...|           59.9|[0.31938158772220...|\n",
      "|[268.0,66.0,0.01,...|           59.9|[0.32342762145117...|\n",
      "|[272.0,69.0,0.01,...|           59.5|[0.09427461317511...|\n",
      "|[275.0,71.0,0.01,...|           59.2|[0.09072738890619...|\n",
      "|[279.0,74.0,0.01,...|           58.8|[0.13336378045504...|\n",
      "|[281.0,77.0,0.01,...|           58.6|[0.09640192379791...|\n",
      "|[287.0,80.0,0.03,...|           58.1|[0.17117548038300...|\n",
      "|[295.0,82.0,0.02,...|           57.5|[0.23631961187665...|\n",
      "|[295.0,84.0,0.03,...|           57.3|[0.14473788812662...|\n",
      "|[291.0,85.0,0.02,...|           57.3|[0.21700324061796...|\n",
      "|[293.0,87.0,0.02,...|           57.0|[0.47602814642986...|\n",
      "|[295.0,87.0,0.01,...|           56.7|[0.33094532280928...|\n",
      "|[3.0,88.0,0.01,16...|           56.2|[0.00120040715904...|\n",
      "|[316.0,88.0,0.01,...|           55.3|[0.03603129621958...|\n",
      "|[321.0,88.0,0.01,...|           54.8|[0.04905987472373...|\n",
      "|[74.0,0.0,4.6,364...|           77.8|[0.01861222681506...|\n",
      "|[8.0,0.0,4.51,428...|           77.5|[0.00173938325926...|\n",
      "|[84.0,0.0,4.76,43...|           77.2|[0.01891808011431...|\n",
      "|[86.0,0.0,5.14,41...|           76.9|[0.02012964589350...|\n",
      "+--------------------+---------------+--------------------+\n",
      "only showing top 20 rows\n",
      "\n"
     ]
    }
   ],
   "source": [
    "from pyspark.ml.feature import Normalizer\n",
    "normalizer = Normalizer(p=2.0, inputCol=\"features\", outputCol=\"NormalizerFeatures\")\n",
    "nol=normalizer.transform(final)\n",
    "nol.show()"
   ]
  },
  {
   "cell_type": "code",
   "execution_count": 25,
   "metadata": {},
   "outputs": [
    {
     "name": "stdout",
     "output_type": "stream",
     "text": [
      "+---------------+--------------------+\n",
      "|Life_Expectancy|  NormalizerFeatures|\n",
      "+---------------+--------------------+\n",
      "|           65.0|[0.19781301387806...|\n",
      "|           59.9|[0.31938158772220...|\n",
      "|           59.9|[0.32342762145117...|\n",
      "|           59.5|[0.09427461317511...|\n",
      "|           59.2|[0.09072738890619...|\n",
      "|           58.8|[0.13336378045504...|\n",
      "|           58.6|[0.09640192379791...|\n",
      "|           58.1|[0.17117548038300...|\n",
      "|           57.5|[0.23631961187665...|\n",
      "|           57.3|[0.14473788812662...|\n",
      "|           57.3|[0.21700324061796...|\n",
      "|           57.0|[0.47602814642986...|\n",
      "|           56.7|[0.33094532280928...|\n",
      "|           56.2|[0.00120040715904...|\n",
      "|           55.3|[0.03603129621958...|\n",
      "|           54.8|[0.04905987472373...|\n",
      "|           77.8|[0.01861222681506...|\n",
      "|           77.5|[0.00173938325926...|\n",
      "|           77.2|[0.01891808011431...|\n",
      "|           76.9|[0.02012964589350...|\n",
      "+---------------+--------------------+\n",
      "only showing top 20 rows\n",
      "\n"
     ]
    }
   ],
   "source": [
    "\n",
    "df_c= nol.drop('features' )\n",
    "df_c.show()"
   ]
  },
  {
   "cell_type": "code",
   "execution_count": 50,
   "metadata": {},
   "outputs": [
    {
     "name": "stdout",
     "output_type": "stream",
     "text": [
      "+---------------+--------------------+\n",
      "|Life_Expectancy|            features|\n",
      "+---------------+--------------------+\n",
      "|           65.0|[0.19781301387806...|\n",
      "|           59.9|[0.31938158772220...|\n",
      "|           59.9|[0.32342762145117...|\n",
      "|           59.5|[0.09427461317511...|\n",
      "|           59.2|[0.09072738890619...|\n",
      "|           58.8|[0.13336378045504...|\n",
      "|           58.6|[0.09640192379791...|\n",
      "|           58.1|[0.17117548038300...|\n",
      "|           57.5|[0.23631961187665...|\n",
      "|           57.3|[0.14473788812662...|\n",
      "|           57.3|[0.21700324061796...|\n",
      "|           57.0|[0.47602814642986...|\n",
      "|           56.7|[0.33094532280928...|\n",
      "|           56.2|[0.00120040715904...|\n",
      "|           55.3|[0.03603129621958...|\n",
      "|           54.8|[0.04905987472373...|\n",
      "|           77.8|[0.01861222681506...|\n",
      "|           77.5|[0.00173938325926...|\n",
      "|           77.2|[0.01891808011431...|\n",
      "|           76.9|[0.02012964589350...|\n",
      "+---------------+--------------------+\n",
      "only showing top 20 rows\n",
      "\n"
     ]
    }
   ],
   "source": [
    "df_c_renamed = (df_c.withColumnRenamed('NormalizerFeatures', \"features\"))\n",
    "df_c_renamed.show()"
   ]
  },
  {
   "cell_type": "code",
   "execution_count": 27,
   "metadata": {},
   "outputs": [],
   "source": [
    "train_data,test_data = df_c_renamed.randomSplit([0.7,0.3])"
   ]
  },
  {
   "cell_type": "code",
   "execution_count": 28,
   "metadata": {},
   "outputs": [
    {
     "name": "stdout",
     "output_type": "stream",
     "text": [
      "+-------+-----------------+\n",
      "|summary|  Life_Expectancy|\n",
      "+-------+-----------------+\n",
      "|  count|             1900|\n",
      "|   mean| 69.3544659448401|\n",
      "| stddev|9.436229362266571|\n",
      "|    min|             36.3|\n",
      "|    max|             89.0|\n",
      "+-------+-----------------+\n",
      "\n",
      "+-------+-----------------+\n",
      "|summary|  Life_Expectancy|\n",
      "+-------+-----------------+\n",
      "|  count|              830|\n",
      "|   mean|69.64450921397366|\n",
      "| stddev|9.069908789077493|\n",
      "|    min|             41.5|\n",
      "|    max|             89.0|\n",
      "+-------+-----------------+\n",
      "\n"
     ]
    }
   ],
   "source": [
    "# Let's see our training data.\n",
    "train_data.describe().show()\n",
    "\n",
    "\n",
    "# And our testing data.\n",
    "test_data.describe().show()"
   ]
  },
  {
   "cell_type": "code",
   "execution_count": 29,
   "metadata": {},
   "outputs": [
    {
     "name": "stdout",
     "output_type": "stream",
     "text": [
      "Intercept: 79.85169759516052\n",
      "Coefficients: [-21.406389093844307,201.98357853568663,-2.923541919720857,31.665232705180635,-27.24408031119807,-15.173895082326247,11.12505185340508,-151.2982330717311,7.986230809229071,-146.74835929845358,16.957846237078314,-310.71754388627915,-8.517498296085511,-10.217544941658684,-74.22423986275581,1670.3908170911604,107.96279455953666]\n"
     ]
    }
   ],
   "source": [
    "from pyspark.ml.linalg import Vectors\n",
    "from pyspark.ml.feature import VectorAssembler\n",
    "\n",
    "lr =  LinearRegression(labelCol='Life_Expectancy')\n",
    "# Fit the model to the data.\n",
    "lrModel = lr.fit(train_data)\n",
    "# Print the coefficients and intercept for linear regression.\n",
    "print(\"Intercept: {}\".format(lrModel.intercept))\n",
    "print(\"Coefficients: {}\".format(lrModel.coefficients))"
   ]
  },
  {
   "cell_type": "code",
   "execution_count": 30,
   "metadata": {},
   "outputs": [
    {
     "name": "stdout",
     "output_type": "stream",
     "text": [
      "Model: Linear Regression\n",
      "R2: 0.524967416027019\n",
      "MAE: 4.701982459622297\n",
      "MSE: 39.030640455575366\n",
      "RSME: 6.247450716538336\n",
      "+-------------------+\n",
      "|          residuals|\n",
      "+-------------------+\n",
      "|-16.879661439524625|\n",
      "| -18.69783167595844|\n",
      "| 27.151673668023477|\n",
      "| 1.8160144393276667|\n",
      "| 2.7693587450913455|\n",
      "| -4.603397348515905|\n",
      "|-18.775711829613215|\n",
      "|-12.145088922912826|\n",
      "| -7.775809937289225|\n",
      "| -2.416516711027704|\n",
      "|-16.283699176048714|\n",
      "|-23.799318876447032|\n",
      "|-1.2693222846824312|\n",
      "| -9.485688192479842|\n",
      "| -9.270176278816727|\n",
      "|-17.538191915200635|\n",
      "|-10.028397756950994|\n",
      "|  -8.36014093182311|\n",
      "| -16.53400557000633|\n",
      "|-3.1534522336450124|\n",
      "+-------------------+\n",
      "only showing top 20 rows\n",
      "\n"
     ]
    }
   ],
   "source": [
    "test_results = lrModel.evaluate(test_data)\n",
    "print ('Model: Linear Regression')\n",
    "\n",
    "print(\"R2: {}\".format(test_results.r2))\n",
    "print(\"MAE: {}\".format(test_results.meanAbsoluteError))\n",
    "print(\"MSE: {}\".format(test_results.meanSquaredError))\n",
    "print(\"RSME: {}\".format(test_results.rootMeanSquaredError))\n",
    "\n",
    "test_results.residuals.show()"
   ]
  },
  {
   "cell_type": "code",
   "execution_count": 53,
   "metadata": {},
   "outputs": [
    {
     "name": "stdout",
     "output_type": "stream",
     "text": [
      "+---------------+--------------------+------------------+\n",
      "|Life_Expectancy|            features|        prediction|\n",
      "+---------------+--------------------+------------------+\n",
      "|           41.5|[0.08616203765514...|58.379661439524625|\n",
      "|           43.3|[0.14696247421356...| 61.99783167595844|\n",
      "|           44.0|[0.34775377363562...|16.848326331976523|\n",
      "|           44.6|[0.75302573664464...|42.783985560672335|\n",
      "|           44.6|[0.93100744062476...|41.830641254908656|\n",
      "|           45.1|[0.46705982178175...| 49.70339734851591|\n",
      "|           45.5|[0.00275564109840...| 64.27571182961321|\n",
      "|           45.6|[0.05919151456868...| 57.74508892291283|\n",
      "|           45.7|[0.37193721194048...| 53.47580993728923|\n",
      "|           45.9|[0.65705813434718...|  48.3165167110277|\n",
      "|           46.0|[0.01522493086685...|62.283699176048714|\n",
      "|           46.0|[0.02169937056679...| 69.79931887644703|\n",
      "|           46.0|[0.38622600560432...| 47.26932228468243|\n",
      "|           46.2|[0.94213366329869...|55.685688192479844|\n",
      "|           46.4|[0.40081714211483...|55.670176278816726|\n",
      "|           46.6|[0.01301718378054...| 64.13819191520064|\n",
      "|           47.1|[0.71116152542660...|57.128397756950996|\n",
      "|           47.6|[0.70866250848185...| 55.96014093182311|\n",
      "|           47.7|[0.01110259679472...| 64.23400557000633|\n",
      "|           47.7|[0.41622260076221...|50.853452233645015|\n",
      "+---------------+--------------------+------------------+\n",
      "only showing top 20 rows\n",
      "\n"
     ]
    }
   ],
   "source": [
    "prediction_lr= lrModel.transform(test_data)\n",
    "prediction_lr.show()"
   ]
  },
  {
   "cell_type": "code",
   "execution_count": 49,
   "metadata": {},
   "outputs": [
    {
     "name": "stdout",
     "output_type": "stream",
     "text": [
      "+---------------+--------------------+------------+\n",
      "|Life_Expectancy|            features|Target_index|\n",
      "+---------------+--------------------+------------+\n",
      "|           65.0|[0.19781301387806...|        49.0|\n",
      "|           59.9|[0.31938158772220...|       143.0|\n",
      "|           59.9|[0.32342762145117...|       143.0|\n",
      "|           59.5|[0.09427461317511...|       228.0|\n",
      "|           59.2|[0.09072738890619...|       151.0|\n",
      "|           58.8|[0.13336378045504...|       270.0|\n",
      "|           58.6|[0.09640192379791...|       173.0|\n",
      "|           58.1|[0.17117548038300...|        93.0|\n",
      "|           57.5|[0.23631961187665...|       208.0|\n",
      "|           57.3|[0.14473788812662...|       167.0|\n",
      "|           57.3|[0.21700324061796...|       167.0|\n",
      "|           57.0|[0.47602814642986...|       207.0|\n",
      "|           56.7|[0.33094532280928...|       119.0|\n",
      "|           56.2|[0.00120040715904...|       234.0|\n",
      "|           55.3|[0.03603129621958...|        70.0|\n",
      "|           54.8|[0.04905987472373...|       195.0|\n",
      "|           77.8|[0.01861222681506...|       149.0|\n",
      "|           77.5|[0.00173938325926...|       128.0|\n",
      "|           77.2|[0.01891808011431...|       160.0|\n",
      "|           76.9|[0.02012964589350...|       115.0|\n",
      "+---------------+--------------------+------------+\n",
      "only showing top 20 rows\n",
      "\n"
     ]
    }
   ],
   "source": [
    "from pyspark.ml.classification import (RandomForestClassifier,LogisticRegression,DecisionTreeClassifier)\n",
    "from pyspark.ml import Pipeline\n",
    "from pyspark.ml.feature import StringIndexer\n",
    "indexer = StringIndexer(inputCol=\"Life_Expectancy\", outputCol=\"Target_index\").fit(df_c_renamed)\n",
    "df_end = indexer.transform(df_c_renamed)\n",
    "df_end.show()"
   ]
  },
  {
   "cell_type": "code",
   "execution_count": 47,
   "metadata": {
    "scrolled": true
   },
   "outputs": [
    {
     "name": "stdout",
     "output_type": "stream",
     "text": [
      "+-------+----------------+-----------------+\n",
      "|summary| Life_Expectancy|     Target_index|\n",
      "+-------+----------------+-----------------+\n",
      "|  count|            1894|             1894|\n",
      "|   mean|69.4034241262915|106.0791974656811|\n",
      "| stddev|9.36049688697308|88.89314121390888|\n",
      "|    min|            36.3|              0.0|\n",
      "|    max|            89.0|            362.0|\n",
      "+-------+----------------+-----------------+\n",
      "\n",
      "+-------+-----------------+------------------+\n",
      "|summary|  Life_Expectancy|      Target_index|\n",
      "+-------+-----------------+------------------+\n",
      "|  count|              836|               836|\n",
      "|   mean|69.53151034401692|105.17703349282297|\n",
      "| stddev|9.251269097171273| 89.50277685481187|\n",
      "|    min|             41.5|               0.0|\n",
      "|    max|             89.0|             359.0|\n",
      "+-------+-----------------+------------------+\n",
      "\n"
     ]
    }
   ],
   "source": [
    "\n",
    "(trainingData, testData) = df_end.randomSplit([0.7, 0.3])\n",
    "\n",
    "# Let's see our training data.\n",
    "trainingData.describe().show()\n",
    "\n",
    "\n",
    "# And our testing data.\n",
    "testData.describe().show()\n",
    "\n"
   ]
  },
  {
   "cell_type": "code",
   "execution_count": 33,
   "metadata": {},
   "outputs": [],
   "source": [
    "rf = RandomForestClassifier(labelCol=\"Target_index\", featuresCol=\"features\", numTrees=20)\n",
    "model_rf = rf.fit(trainingData)"
   ]
  },
  {
   "cell_type": "code",
   "execution_count": 34,
   "metadata": {},
   "outputs": [
    {
     "name": "stdout",
     "output_type": "stream",
     "text": [
      "+---------------+--------------------+------------+--------------------+--------------------+----------+\n",
      "|Life_Expectancy|            features|Target_index|       rawPrediction|         probability|prediction|\n",
      "+---------------+--------------------+------------+--------------------+--------------------+----------+\n",
      "|           44.5|[0.60881422892655...|       307.0|[0.18736226921323...|[0.00936811346066...|     101.0|\n",
      "|           44.6|[0.93100744062476...|       262.0|[0.05000616293132...|[0.00250030814656...|      70.0|\n",
      "|           45.3|[0.02089455328182...|       229.0|[0.16092628287783...|[0.00804631414389...|     130.0|\n",
      "|           45.3|[0.59448803683714...|       229.0|[0.11044556370746...|[0.00552227818537...|      54.0|\n",
      "|           45.6|[0.02720548263228...|       291.0|[0.29834916813806...|[0.01491745840690...|     217.0|\n",
      "|           45.7|[0.37193721194048...|       279.0|[0.08937011759427...|[0.00446850587971...|      93.0|\n",
      "|           46.0|[0.24670254026645...|       217.0|[0.23910438091703...|[0.01195521904585...|      70.0|\n",
      "|           46.4|[0.40081714211483...|       253.0|[0.22688015264259...|[0.01134400763212...|     147.0|\n",
      "|           46.7|[0.21081214627865...|       336.0|[0.26885671388769...|[0.01344283569438...|     316.0|\n",
      "|           46.8|[0.25984368810795...|       326.0|[0.13040937223836...|[0.00652046861191...|     130.0|\n",
      "|           47.1|[2.12077839250257...|       218.0|[0.16974181647815...|[0.00848709082390...|     303.0|\n",
      "|           47.7|[0.00116600684523...|       271.0|[0.55864430601531...|[0.02793221530076...|     303.0|\n",
      "|           47.7|[0.41622260076221...|       271.0|[0.07457477086230...|[0.00372873854311...|     111.0|\n",
      "|           47.8|[0.75380352258051...|       237.0|[0.06743494301482...|[0.00337174715074...|     147.0|\n",
      "|           48.0|[1.60583810444799...|       297.0|[0.30363883709815...|[0.01518194185490...|      76.0|\n",
      "|           48.5|[0.00435407746302...|       231.0|[0.25099256062607...|[0.01254962803130...|     102.0|\n",
      "|           48.5|[0.92825860580065...|       231.0|[0.05000616293132...|[0.00250030814656...|      70.0|\n",
      "|           48.6|[0.70186914999064...|       288.0|[0.08748040195669...|[0.00437402009783...|     147.0|\n",
      "|           48.7|[0.09492433331148...|       355.0|[0.13098045015837...|[0.00654902250791...|     130.0|\n",
      "|           48.9|[0.21218008401302...|       339.0|[0.14467433463322...|[0.00723371673166...|      54.0|\n",
      "+---------------+--------------------+------------+--------------------+--------------------+----------+\n",
      "only showing top 20 rows\n",
      "\n"
     ]
    }
   ],
   "source": [
    "\n",
    "prediction_rf = model_rf.transform(testData)\n",
    "prediction_rf.show()"
   ]
  },
  {
   "cell_type": "code",
   "execution_count": 35,
   "metadata": {},
   "outputs": [
    {
     "name": "stdout",
     "output_type": "stream",
     "text": [
      "+----------+--------------------+\n",
      "|prediction|            features|\n",
      "+----------+--------------------+\n",
      "|     101.0|[0.60881422892655...|\n",
      "|      70.0|[0.93100744062476...|\n",
      "|     130.0|[0.02089455328182...|\n",
      "|      54.0|[0.59448803683714...|\n",
      "|     217.0|[0.02720548263228...|\n",
      "|      93.0|[0.37193721194048...|\n",
      "|      70.0|[0.24670254026645...|\n",
      "|     147.0|[0.40081714211483...|\n",
      "|     316.0|[0.21081214627865...|\n",
      "|     130.0|[0.25984368810795...|\n",
      "|     303.0|[2.12077839250257...|\n",
      "|     303.0|[0.00116600684523...|\n",
      "|     111.0|[0.41622260076221...|\n",
      "|     147.0|[0.75380352258051...|\n",
      "|      76.0|[1.60583810444799...|\n",
      "|     102.0|[0.00435407746302...|\n",
      "|      70.0|[0.92825860580065...|\n",
      "|     147.0|[0.70186914999064...|\n",
      "|     130.0|[0.09492433331148...|\n",
      "|      54.0|[0.21218008401302...|\n",
      "+----------+--------------------+\n",
      "only showing top 20 rows\n",
      "\n"
     ]
    }
   ],
   "source": [
    "prediction_rf.select(\"prediction\", \"features\").show()"
   ]
  },
  {
   "cell_type": "code",
   "execution_count": 36,
   "metadata": {},
   "outputs": [],
   "source": [
    "lr = LogisticRegression(labelCol=\"Target_index\", featuresCol=\"features\")\n",
    "model_lr = lr.fit(trainingData)"
   ]
  },
  {
   "cell_type": "code",
   "execution_count": 37,
   "metadata": {},
   "outputs": [
    {
     "name": "stdout",
     "output_type": "stream",
     "text": [
      "+---------------+--------------------+------------+--------------------+--------------------+----------+\n",
      "|Life_Expectancy|            features|Target_index|       rawPrediction|         probability|prediction|\n",
      "+---------------+--------------------+------------+--------------------+--------------------+----------+\n",
      "|           44.5|[0.60881422892655...|       307.0|[0.18736226921323...|[0.00936811346066...|     101.0|\n",
      "|           44.6|[0.93100744062476...|       262.0|[0.05000616293132...|[0.00250030814656...|      70.0|\n",
      "|           45.3|[0.02089455328182...|       229.0|[0.16092628287783...|[0.00804631414389...|     130.0|\n",
      "|           45.3|[0.59448803683714...|       229.0|[0.11044556370746...|[0.00552227818537...|      54.0|\n",
      "|           45.6|[0.02720548263228...|       291.0|[0.29834916813806...|[0.01491745840690...|     217.0|\n",
      "|           45.7|[0.37193721194048...|       279.0|[0.08937011759427...|[0.00446850587971...|      93.0|\n",
      "|           46.0|[0.24670254026645...|       217.0|[0.23910438091703...|[0.01195521904585...|      70.0|\n",
      "|           46.4|[0.40081714211483...|       253.0|[0.22688015264259...|[0.01134400763212...|     147.0|\n",
      "|           46.7|[0.21081214627865...|       336.0|[0.26885671388769...|[0.01344283569438...|     316.0|\n",
      "|           46.8|[0.25984368810795...|       326.0|[0.13040937223836...|[0.00652046861191...|     130.0|\n",
      "|           47.1|[2.12077839250257...|       218.0|[0.16974181647815...|[0.00848709082390...|     303.0|\n",
      "|           47.7|[0.00116600684523...|       271.0|[0.55864430601531...|[0.02793221530076...|     303.0|\n",
      "|           47.7|[0.41622260076221...|       271.0|[0.07457477086230...|[0.00372873854311...|     111.0|\n",
      "|           47.8|[0.75380352258051...|       237.0|[0.06743494301482...|[0.00337174715074...|     147.0|\n",
      "|           48.0|[1.60583810444799...|       297.0|[0.30363883709815...|[0.01518194185490...|      76.0|\n",
      "|           48.5|[0.00435407746302...|       231.0|[0.25099256062607...|[0.01254962803130...|     102.0|\n",
      "|           48.5|[0.92825860580065...|       231.0|[0.05000616293132...|[0.00250030814656...|      70.0|\n",
      "|           48.6|[0.70186914999064...|       288.0|[0.08748040195669...|[0.00437402009783...|     147.0|\n",
      "|           48.7|[0.09492433331148...|       355.0|[0.13098045015837...|[0.00654902250791...|     130.0|\n",
      "|           48.9|[0.21218008401302...|       339.0|[0.14467433463322...|[0.00723371673166...|      54.0|\n",
      "+---------------+--------------------+------------+--------------------+--------------------+----------+\n",
      "only showing top 20 rows\n",
      "\n"
     ]
    }
   ],
   "source": [
    "prediction_lr = model_rf.transform(testData)\n",
    "prediction_lr.show()"
   ]
  },
  {
   "cell_type": "code",
   "execution_count": 38,
   "metadata": {},
   "outputs": [
    {
     "name": "stdout",
     "output_type": "stream",
     "text": [
      "+----------+--------------------+\n",
      "|prediction|            features|\n",
      "+----------+--------------------+\n",
      "|     101.0|[0.60881422892655...|\n",
      "|      70.0|[0.93100744062476...|\n",
      "|     130.0|[0.02089455328182...|\n",
      "|      54.0|[0.59448803683714...|\n",
      "|     217.0|[0.02720548263228...|\n",
      "|      93.0|[0.37193721194048...|\n",
      "|      70.0|[0.24670254026645...|\n",
      "|     147.0|[0.40081714211483...|\n",
      "|     316.0|[0.21081214627865...|\n",
      "|     130.0|[0.25984368810795...|\n",
      "|     303.0|[2.12077839250257...|\n",
      "|     303.0|[0.00116600684523...|\n",
      "|     111.0|[0.41622260076221...|\n",
      "|     147.0|[0.75380352258051...|\n",
      "|      76.0|[1.60583810444799...|\n",
      "|     102.0|[0.00435407746302...|\n",
      "|      70.0|[0.92825860580065...|\n",
      "|     147.0|[0.70186914999064...|\n",
      "|     130.0|[0.09492433331148...|\n",
      "|      54.0|[0.21218008401302...|\n",
      "+----------+--------------------+\n",
      "only showing top 20 rows\n",
      "\n"
     ]
    }
   ],
   "source": [
    "prediction_lr.select(\"prediction\", \"features\").show()"
   ]
  },
  {
   "cell_type": "code",
   "execution_count": 39,
   "metadata": {},
   "outputs": [],
   "source": [
    "dt = DecisionTreeClassifier(labelCol=\"Target_index\", featuresCol=\"features\")\n",
    "model_dt = dt.fit(trainingData)"
   ]
  },
  {
   "cell_type": "code",
   "execution_count": 40,
   "metadata": {},
   "outputs": [
    {
     "name": "stdout",
     "output_type": "stream",
     "text": [
      "+---------------+--------------------+------------+--------------------+--------------------+----------+\n",
      "|Life_Expectancy|            features|Target_index|       rawPrediction|         probability|prediction|\n",
      "+---------------+--------------------+------------+--------------------+--------------------+----------+\n",
      "|           44.5|[0.60881422892655...|       307.0|[0.0,0.0,0.0,0.0,...|[0.0,0.0,0.0,0.0,...|     147.0|\n",
      "|           44.6|[0.93100744062476...|       262.0|[0.0,0.0,0.0,0.0,...|[0.0,0.0,0.0,0.0,...|     147.0|\n",
      "|           45.3|[0.02089455328182...|       229.0|[0.0,0.0,0.0,0.0,...|[0.0,0.0,0.0,0.0,...|      54.0|\n",
      "|           45.3|[0.59448803683714...|       229.0|[0.0,0.0,0.0,0.0,...|[0.0,0.0,0.0,0.0,...|      54.0|\n",
      "|           45.6|[0.02720548263228...|       291.0|[0.0,0.0,0.0,0.0,...|[0.0,0.0,0.0,0.0,...|     147.0|\n",
      "|           45.7|[0.37193721194048...|       279.0|[0.0,0.0,0.0,0.0,...|[0.0,0.0,0.0,0.0,...|     147.0|\n",
      "|           46.0|[0.24670254026645...|       217.0|[0.0,0.0,0.0,0.0,...|[0.0,0.0,0.0,0.0,...|      32.0|\n",
      "|           46.4|[0.40081714211483...|       253.0|[0.0,0.0,0.0,0.0,...|[0.0,0.0,0.0,0.0,...|     147.0|\n",
      "|           46.7|[0.21081214627865...|       336.0|[0.0,0.0,0.0,0.0,...|[0.0,0.0,0.0,0.0,...|     147.0|\n",
      "|           46.8|[0.25984368810795...|       326.0|[0.0,0.0,0.0,0.0,...|[0.0,0.0,0.0,0.0,...|      54.0|\n",
      "|           47.1|[2.12077839250257...|       218.0|[0.0,0.0,0.0,1.0,...|[0.0,0.0,0.0,0.04...|       5.0|\n",
      "|           47.7|[0.00116600684523...|       271.0|[1.0,1.0,1.0,1.0,...|[0.00632911392405...|     105.0|\n",
      "|           47.7|[0.41622260076221...|       271.0|[0.0,0.0,0.0,0.0,...|[0.0,0.0,0.0,0.0,...|      54.0|\n",
      "|           47.8|[0.75380352258051...|       237.0|[0.0,0.0,0.0,0.0,...|[0.0,0.0,0.0,0.0,...|     147.0|\n",
      "|           48.0|[1.60583810444799...|       297.0|[1.0,1.0,1.0,1.0,...|[0.00632911392405...|     105.0|\n",
      "|           48.5|[0.00435407746302...|       231.0|[1.0,1.0,1.0,1.0,...|[0.00632911392405...|     105.0|\n",
      "|           48.5|[0.92825860580065...|       231.0|[0.0,0.0,0.0,0.0,...|[0.0,0.0,0.0,0.0,...|     147.0|\n",
      "|           48.6|[0.70186914999064...|       288.0|[0.0,0.0,0.0,0.0,...|[0.0,0.0,0.0,0.0,...|     147.0|\n",
      "|           48.7|[0.09492433331148...|       355.0|[0.0,0.0,0.0,0.0,...|[0.0,0.0,0.0,0.0,...|      54.0|\n",
      "|           48.9|[0.21218008401302...|       339.0|[0.0,0.0,0.0,0.0,...|[0.0,0.0,0.0,0.0,...|      54.0|\n",
      "+---------------+--------------------+------------+--------------------+--------------------+----------+\n",
      "only showing top 20 rows\n",
      "\n"
     ]
    }
   ],
   "source": [
    "prediction_dt = model_dt.transform(testData)\n",
    "prediction_dt.show()"
   ]
  },
  {
   "cell_type": "code",
   "execution_count": 41,
   "metadata": {},
   "outputs": [
    {
     "name": "stdout",
     "output_type": "stream",
     "text": [
      "+----------+--------------------+\n",
      "|prediction|            features|\n",
      "+----------+--------------------+\n",
      "|     147.0|[0.60881422892655...|\n",
      "|     147.0|[0.93100744062476...|\n",
      "|      54.0|[0.02089455328182...|\n",
      "|      54.0|[0.59448803683714...|\n",
      "|     147.0|[0.02720548263228...|\n",
      "|     147.0|[0.37193721194048...|\n",
      "|      32.0|[0.24670254026645...|\n",
      "|     147.0|[0.40081714211483...|\n",
      "|     147.0|[0.21081214627865...|\n",
      "|      54.0|[0.25984368810795...|\n",
      "|       5.0|[2.12077839250257...|\n",
      "|     105.0|[0.00116600684523...|\n",
      "|      54.0|[0.41622260076221...|\n",
      "|     147.0|[0.75380352258051...|\n",
      "|     105.0|[1.60583810444799...|\n",
      "|     105.0|[0.00435407746302...|\n",
      "|     147.0|[0.92825860580065...|\n",
      "|     147.0|[0.70186914999064...|\n",
      "|      54.0|[0.09492433331148...|\n",
      "|      54.0|[0.21218008401302...|\n",
      "+----------+--------------------+\n",
      "only showing top 20 rows\n",
      "\n"
     ]
    }
   ],
   "source": [
    "prediction_dt.select(\"prediction\", \"features\").show()"
   ]
  },
  {
   "cell_type": "code",
   "execution_count": 42,
   "metadata": {},
   "outputs": [
    {
     "name": "stdout",
     "output_type": "stream",
     "text": [
      "RF's accuracy is 0.025579\n",
      "LR's accuracy is 0.025579\n",
      "DT's accuracy is 0.015834\n"
     ]
    }
   ],
   "source": [
    "from pyspark.ml.evaluation import MulticlassClassificationEvaluator\n",
    "from pyspark.ml.evaluation import BinaryClassificationEvaluator\n",
    "rf_accuracy = MulticlassClassificationEvaluator(labelCol='Target_index', metricName='accuracy').evaluate(prediction_rf)\n",
    "print(\"RF's accuracy is %f\"%rf_accuracy)\n",
    "lr_accuracy = MulticlassClassificationEvaluator(labelCol='Target_index', metricName='accuracy').evaluate(prediction_lr)\n",
    "print(\"LR's accuracy is %f\"%lr_accuracy)\n",
    "dt_accuracy= MulticlassClassificationEvaluator(labelCol='Target_index', metricName='accuracy').evaluate(prediction_dt)\n",
    "print(\"DT's accuracy is %f\"%dt_accuracy)"
   ]
  },
  {
   "cell_type": "code",
   "execution_count": 43,
   "metadata": {},
   "outputs": [
    {
     "name": "stdout",
     "output_type": "stream",
     "text": [
      "RF's precision is 0.010362\n",
      "LR's precision is 0.010362\n",
      "DT's precision is 0.001563\n"
     ]
    }
   ],
   "source": [
    "\n",
    "rf_precision = MulticlassClassificationEvaluator(labelCol='Target_index', metricName='weightedPrecision').evaluate(prediction_rf)\n",
    "print(\"RF's precision is %f\"%rf_precision)\n",
    "lr_precision = MulticlassClassificationEvaluator(labelCol='Target_index', metricName='weightedPrecision').evaluate(prediction_lr)\n",
    "print(\"LR's precision is %f\"%lr_precision)\n",
    "dt_precision= MulticlassClassificationEvaluator(labelCol='Target_index', metricName='weightedPrecision').evaluate(prediction_dt)\n",
    "print(\"DT's precision is %f\"%dt_precision)"
   ]
  },
  {
   "cell_type": "code",
   "execution_count": 44,
   "metadata": {},
   "outputs": [
    {
     "name": "stdout",
     "output_type": "stream",
     "text": [
      "RF's precision is 0.288131\n",
      "LR's precision is 0.288131\n",
      "DT's precision is 0.475269\n"
     ]
    }
   ],
   "source": [
    "rf_auc = BinaryClassificationEvaluator(labelCol='Target_index').evaluate(prediction_rf)\n",
    "print(\"RF's precision is %f\"%rf_auc)\n",
    "lr_auc = BinaryClassificationEvaluator(labelCol='Target_index').evaluate(prediction_lr)\n",
    "print(\"LR's precision is %f\"%lr_auc)\n",
    "dt_auc= BinaryClassificationEvaluator(labelCol='Target_index').evaluate(prediction_dt)\n",
    "print(\"DT's precision is %f\"%dt_auc)"
   ]
  },
  {
   "cell_type": "code",
   "execution_count": 52,
   "metadata": {},
   "outputs": [
    {
     "name": "stdout",
     "output_type": "stream",
     "text": [
      "+---------------+--------------------+------------------+\n",
      "|Life_Expectancy|            features|        prediction|\n",
      "+---------------+--------------------+------------------+\n",
      "|           41.5|[0.08616203765514...|58.379661439524625|\n",
      "|           43.3|[0.14696247421356...| 61.99783167595844|\n",
      "|           44.0|[0.34775377363562...|16.848326331976523|\n",
      "|           44.6|[0.75302573664464...|42.783985560672335|\n",
      "|           44.6|[0.93100744062476...|41.830641254908656|\n",
      "|           45.1|[0.46705982178175...| 49.70339734851591|\n",
      "|           45.5|[0.00275564109840...| 64.27571182961321|\n",
      "|           45.6|[0.05919151456868...| 57.74508892291283|\n",
      "|           45.7|[0.37193721194048...| 53.47580993728923|\n",
      "|           45.9|[0.65705813434718...|  48.3165167110277|\n",
      "|           46.0|[0.01522493086685...|62.283699176048714|\n",
      "|           46.0|[0.02169937056679...| 69.79931887644703|\n",
      "|           46.0|[0.38622600560432...| 47.26932228468243|\n",
      "|           46.2|[0.94213366329869...|55.685688192479844|\n",
      "|           46.4|[0.40081714211483...|55.670176278816726|\n",
      "|           46.6|[0.01301718378054...| 64.13819191520064|\n",
      "|           47.1|[0.71116152542660...|57.128397756950996|\n",
      "|           47.6|[0.70866250848185...| 55.96014093182311|\n",
      "|           47.7|[0.01110259679472...| 64.23400557000633|\n",
      "|           47.7|[0.41622260076221...|50.853452233645015|\n",
      "+---------------+--------------------+------------------+\n",
      "only showing top 20 rows\n",
      "\n"
     ]
    }
   ],
   "source": []
  },
  {
   "cell_type": "code",
   "execution_count": null,
   "metadata": {},
   "outputs": [],
   "source": []
  }
 ],
 "metadata": {
  "kernelspec": {
   "display_name": "Python 3",
   "language": "python",
   "name": "python3"
  },
  "language_info": {
   "codemirror_mode": {
    "name": "ipython",
    "version": 3
   },
   "file_extension": ".py",
   "mimetype": "text/x-python",
   "name": "python",
   "nbconvert_exporter": "python",
   "pygments_lexer": "ipython3",
   "version": "3.5.2"
  }
 },
 "nbformat": 4,
 "nbformat_minor": 2
}
